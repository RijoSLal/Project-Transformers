{
 "cells": [
  {
   "cell_type": "code",
   "execution_count": 1,
   "id": "9a65bd33-a374-4551-ba42-6b02a66ce48a",
   "metadata": {},
   "outputs": [],
   "source": [
    "import os \n",
    "os.environ[\"CUDA_VISIBLE_DEVICES\"]=\"-1\""
   ]
  },
  {
   "cell_type": "code",
   "execution_count": 2,
   "id": "d379dfbb-c65e-4259-bf0e-cd042cc60e00",
   "metadata": {},
   "outputs": [
    {
     "name": "stderr",
     "output_type": "stream",
     "text": [
      "2025-02-01 10:30:54.078912: I tensorflow/core/util/port.cc:153] oneDNN custom operations are on. You may see slightly different numerical results due to floating-point round-off errors from different computation orders. To turn them off, set the environment variable `TF_ENABLE_ONEDNN_OPTS=0`.\n",
      "2025-02-01 10:30:54.087690: E external/local_xla/xla/stream_executor/cuda/cuda_fft.cc:477] Unable to register cuFFT factory: Attempting to register factory for plugin cuFFT when one has already been registered\n",
      "WARNING: All log messages before absl::InitializeLog() is called are written to STDERR\n",
      "E0000 00:00:1738386054.098212    6631 cuda_dnn.cc:8310] Unable to register cuDNN factory: Attempting to register factory for plugin cuDNN when one has already been registered\n",
      "E0000 00:00:1738386054.101466    6631 cuda_blas.cc:1418] Unable to register cuBLAS factory: Attempting to register factory for plugin cuBLAS when one has already been registered\n",
      "2025-02-01 10:30:54.112496: I tensorflow/core/platform/cpu_feature_guard.cc:210] This TensorFlow binary is optimized to use available CPU instructions in performance-critical operations.\n",
      "To enable the following instructions: AVX2 AVX_VNNI FMA, in other operations, rebuild TensorFlow with the appropriate compiler flags.\n"
     ]
    }
   ],
   "source": [
    "from tensorflow import keras\n",
    "from keras.datasets import mnist\n",
    "from keras.layers import Dense,Conv2DTranspose,Conv2D,Reshape,LeakyReLU,Dropout,BatchNormalization,Flatten\n",
    "import numpy as np\n",
    "import tensorflow as tf"
   ]
  },
  {
   "cell_type": "code",
   "execution_count": 5,
   "id": "1fb66d67-5dd7-4eba-9118-24d84704bbda",
   "metadata": {},
   "outputs": [
    {
     "name": "stderr",
     "output_type": "stream",
     "text": [
      "/home/rijo/.local/lib/python3.12/site-packages/keras/src/layers/core/dense.py:87: UserWarning: Do not pass an `input_shape`/`input_dim` argument to a layer. When using Sequential models, prefer using an `Input(shape)` object as the first layer in the model instead.\n",
      "  super().__init__(activity_regularizer=activity_regularizer, **kwargs)\n",
      "/home/rijo/.local/lib/python3.12/site-packages/keras/src/layers/convolutional/base_conv.py:107: UserWarning: Do not pass an `input_shape`/`input_dim` argument to a layer. When using Sequential models, prefer using an `Input(shape)` object as the first layer in the model instead.\n",
      "  super().__init__(activity_regularizer=activity_regularizer, **kwargs)\n",
      "2025-02-01 10:33:11.497658: I tensorflow/core/framework/local_rendezvous.cc:405] Local rendezvous is aborting with status: OUT_OF_RANGE: End of sequence\n"
     ]
    }
   ],
   "source": [
    "(x_train,y_train),(x_test,y_test)=mnist.load_data()\n",
    "\n",
    "\n",
    "def generator(latent_dim): \n",
    "    model = keras.Sequential([\n",
    "        Dense(7*7*256, use_bias=False, input_shape=(latent_dim,)),\n",
    "        BatchNormalization(),\n",
    "        LeakyReLU(),\n",
    "\n",
    "        Reshape((7,7,256)),\n",
    "\n",
    "        Conv2DTranspose(128, 5, strides=1, padding=\"same\", use_bias=False),\n",
    "        BatchNormalization(),\n",
    "        LeakyReLU(),\n",
    "\n",
    "        Conv2DTranspose(64, 5, strides=2, padding=\"same\", use_bias=False),\n",
    "        BatchNormalization(),\n",
    "        LeakyReLU(),\n",
    "\n",
    "        Conv2DTranspose(1, 5, strides=2, padding=\"same\", use_bias=False, activation=\"tanh\")\n",
    "    ])\n",
    "    \n",
    "    return model\n",
    "\n",
    "\n",
    "def discriminator(): \n",
    "    model = keras.Sequential([\n",
    "        Conv2D(64, 5, strides=2, padding=\"same\", use_bias=False, input_shape=(28,28,1)),\n",
    "        LeakyReLU(),\n",
    "        Dropout(0.3),\n",
    "\n",
    "        Conv2D(128, 5, strides=2, padding=\"same\", use_bias=False),\n",
    "        LeakyReLU(),\n",
    "        Dropout(0.3),\n",
    "\n",
    "        Flatten(),\n",
    "        Dense(1, activation=\"sigmoid\") \n",
    "    ])\n",
    "    \n",
    "    return model  \n",
    "\n",
    "\n",
    "cross_entropy = keras.losses.BinaryCrossentropy(from_logits=False)\n",
    "\n",
    "def generator_loss(fake_output):\n",
    "    return cross_entropy(tf.ones_like(fake_output), fake_output)  \n",
    "\n",
    "def discriminator_loss(real_output, fake_output):\n",
    "    real_loss = cross_entropy(tf.ones_like(real_output), real_output)  \n",
    "    fake_loss = cross_entropy(tf.zeros_like(fake_output), fake_output) \n",
    "    return real_loss + fake_loss\n",
    "\n",
    "\n",
    "latent_dim = 100\n",
    "sample = 16  \n",
    "gen_optimizer = keras.optimizers.Adam(learning_rate=0.001)\n",
    "dis_optimizer = keras.optimizers.Adam(learning_rate=0.001)\n",
    "\n",
    "@tf.function\n",
    "def train_step(image, gen, dis, batch_size, latent_dim): \n",
    "    noise = tf.random.normal([batch_size, latent_dim])\n",
    "    \n",
    "    with tf.GradientTape() as gen_tape, tf.GradientTape() as dis_tape: \n",
    "        generated_images = gen(noise, training=True)\n",
    "\n",
    "        real_output = dis(image, training=True)\n",
    "        fake_output = dis(generated_images, training=True)\n",
    "\n",
    "        gen_loss = generator_loss(fake_output)\n",
    "        dis_loss = discriminator_loss(real_output, fake_output)\n",
    "\n",
    "    gen_gradients = gen_tape.gradient(gen_loss, gen.trainable_variables)\n",
    "    dis_gradients = dis_tape.gradient(dis_loss, dis.trainable_variables)\n",
    "\n",
    "    gen_optimizer.apply_gradients(zip(gen_gradients, gen.trainable_variables))\n",
    "    dis_optimizer.apply_gradients(zip(dis_gradients, dis.trainable_variables))\n",
    "\n",
    "gen = generator(latent_dim)\n",
    "dis = discriminator()\n",
    "batch_size = 128\n",
    "\n",
    "seed = tf.random.normal([sample, latent_dim])\n",
    "\n",
    "def training(dataset, epochs, batch_size, latent_dim, gen, dis): \n",
    "    generated_images = []\n",
    "    for _ in range(epochs): \n",
    "        for batch in dataset: \n",
    "            train_step(batch, gen, dis, batch_size, latent_dim)\n",
    "        generated_images.append(gen(seed, training=False).numpy())\n",
    "    return np.array(generated_images)\n",
    "\n",
    "\n",
    "x_train = (x_train.astype(\"float32\") - 127.5) / 127.5 \n",
    "dataset = tf.data.Dataset.from_tensor_slices(x_train).batch(batch_size)\n",
    "\n",
    "val = training(dataset, 1, batch_size, latent_dim, gen, dis)"
   ]
  },
  {
   "cell_type": "code",
   "execution_count": 6,
   "id": "73d1eb59-74a4-41aa-9588-52554b2106b9",
   "metadata": {},
   "outputs": [],
   "source": [
    "import matplotlib.pyplot as plt "
   ]
  },
  {
   "cell_type": "code",
   "execution_count": 7,
   "id": "1a651f07-0e5e-4305-96dd-33d8a6c41af4",
   "metadata": {},
   "outputs": [
    {
     "data": {
      "text/plain": [
       "<matplotlib.image.AxesImage at 0x713b79a08f80>"
      ]
     },
     "execution_count": 7,
     "metadata": {},
     "output_type": "execute_result"
    },
    {
     "data": {
      "image/png": "[encoded data removed]",
      "text/plain": [
       "<Figure size 640x480 with 1 Axes>"
      ]
     },
     "metadata": {},
     "output_type": "display_data"
    }
   ],
   "source": [
    "plt.imshow(val[-1][0,:,:,:],cmap=\"grey\")"
   ]
  },
  {
   "cell_type": "code",
   "execution_count": null,
   "id": "30eb15be-9c2b-4b29-94b4-f257a387877a",
   "metadata": {},
   "outputs": [],
   "source": []
  },
  {
   "cell_type": "code",
   "execution_count": null,
   "id": "d0ffe43c-3eda-42f2-a456-5967452b620f",
   "metadata": {},
   "outputs": [],
   "source": []
  },
  {
   "cell_type": "code",
   "execution_count": null,
   "id": "1cc7a740-c66d-4921-9390-2454b2550265",
   "metadata": {},
   "outputs": [],
   "source": []
  },
  {
   "cell_type": "code",
   "execution_count": null,
   "id": "3fb54a32-0e0d-4e77-b46c-028d18e9f6c2",
   "metadata": {},
   "outputs": [],
   "source": []
  },
  {
   "cell_type": "code",
   "execution_count": null,
   "id": "bb421b36-23fe-4857-9449-a580d19ea692",
   "metadata": {},
   "outputs": [],
   "source": []
  },
  {
   "cell_type": "code",
   "execution_count": null,
   "id": "705a2787-84df-46f1-a50d-c68aa07a0480",
   "metadata": {},
   "outputs": [],
   "source": []
  },
  {
   "cell_type": "code",
   "execution_count": null,
   "id": "bd5c1183-eec8-4c51-8a8e-448ec3569648",
   "metadata": {},
   "outputs": [],
   "source": []
  },
  {
   "cell_type": "code",
   "execution_count": null,
   "id": "c979a418-1a30-42fa-9d4f-b4993617e414",
   "metadata": {},
   "outputs": [],
   "source": []
  },
  {
   "cell_type": "code",
   "execution_count": null,
   "id": "5ddf5dde-437d-4279-b182-728f06772ab9",
   "metadata": {},
   "outputs": [],
   "source": [
    "\n",
    "\n"
   ]
  },
  {
   "cell_type": "code",
   "execution_count": 51,
   "id": "f018fb34-d2bf-494e-b00a-164431e9c85f",
   "metadata": {},
   "outputs": [],
   "source": [
    "import os \n",
    "os.environ[\"CUDA_VISIBLE_DEVICES\"]=\"-1\""
   ]
  },
  {
   "cell_type": "code",
   "execution_count": 52,
   "id": "f8f1b10c-c8cb-40bf-8e06-047979699ccf",
   "metadata": {},
   "outputs": [],
   "source": [
    "from tensorflow import keras\n",
    "from keras.datasets import mnist\n",
    "from keras.layers import Conv2DTranspose,Conv2D,Dense,LeakyReLU,BatchNormalization,Dropout,Reshape,Flatten\n",
    "import tensorflow as tf\n",
    "(x_train,y_train),(x_test,y_test)=mnist.load_data()"
   ]
  },
  {
   "cell_type": "code",
   "execution_count": 53,
   "id": "17c9f901-6639-4728-a585-c4f2bf4df813",
   "metadata": {},
   "outputs": [],
   "source": [
    "def generator_function(latent_dim): \n",
    "    \n",
    "    model=keras.Sequential()\n",
    "    model.add(Dense(7*7*256,use_bias=False,input_shape=(latent_dim,)))\n",
    "    model.add(BatchNormalization())\n",
    "    model.add(LeakyReLU())\n",
    "\n",
    "    model.add(Reshape((7,7,256)))\n",
    "    \n",
    "    model.add(Conv2DTranspose(128,5,1,use_bias=False,padding=\"same\"))\n",
    "    model.add(BatchNormalization())\n",
    "    model.add(LeakyReLU())\n",
    "\n",
    "    model.add(Conv2DTranspose(128,5,2,use_bias=False,padding=\"same\"))\n",
    "    model.add(BatchNormalization())\n",
    "    model.add(LeakyReLU())\n",
    "\n",
    "    model.add(Conv2DTranspose(1,5,2,use_bias=False,padding=\"same\",activation=\"tanh\"))\n",
    "\n",
    "    return model\n",
    "\n",
    "def discriminator_function(): \n",
    "    \n",
    "    model=keras.Sequential()\n",
    "    model.add(Conv2D(64,5,2,padding=\"same\"))\n",
    "    model.add(LeakyReLU())\n",
    "    model.add(Dropout(0.3))\n",
    "\n",
    "    model.add(Conv2D(128,5,2,padding=\"same\"))\n",
    "    model.add(LeakyReLU())\n",
    "    model.add(Dropout(0.3))\n",
    "\n",
    "    model.add(Flatten())\n",
    "    model.add(Dense(1))\n",
    "\n",
    "    return model\n",
    "\n",
    "\n",
    "    \n",
    "    "
   ]
  },
  {
   "cell_type": "code",
   "execution_count": 54,
   "id": "d8393720-2a2d-4ca4-9237-b0fcdc89c38d",
   "metadata": {},
   "outputs": [],
   "source": [
    "latent_dim=100\n",
    "generator=generator_function(latent_dim)\n",
    "discriminator=discriminator_function()\n",
    "batch_size=128"
   ]
  },
  {
   "cell_type": "code",
   "execution_count": 55,
   "id": "c2751e63-a31f-47ea-aa34-b6079568018c",
   "metadata": {},
   "outputs": [],
   "source": [
    "cross_entropy=keras.losses.BinaryCrossentropy(from_logits=True)"
   ]
  },
  {
   "cell_type": "code",
   "execution_count": 56,
   "id": "9f3cb5f1-bfc6-45e6-a4da-32b501a5e9aa",
   "metadata": {},
   "outputs": [],
   "source": [
    "def generator_loss(fake): \n",
    "    fake=cross_entropy(tf.ones_like(fake),fake) \n",
    "    return fake\n",
    "\n",
    "def discriminator_loss(fake,real):\n",
    "    fake=cross_entropy(tf.zeros_like(fake),fake)\n",
    "    real=cross_entropy(tf.ones_like(real),real)\n",
    "    return fake+real\n"
   ]
  },
  {
   "cell_type": "code",
   "execution_count": 57,
   "id": "dfbc7d53-eec4-4e2a-a376-5bbcec996709",
   "metadata": {},
   "outputs": [],
   "source": [
    "gen_optimizer=keras.optimizers.Adam(learning_rate=0.001)\n",
    "dis_optimizer=keras.optimizers.Adam(learning_rate=0.001)\n",
    "\n",
    "\n",
    "\n",
    "@tf.function\n",
    "def train_step(image,latent_dim,batch_size,generator,discriminator):\n",
    "    noise=tf.random.normal([batch_size,latent_dim])\n",
    "    with tf.GradientTape() as gen_tape , tf.GradientTape() as dis_tape: \n",
    "        generated=generator(noise,training=True)\n",
    "\n",
    "        real=discriminator(image,training=True)\n",
    "        fake=discriminator(generated,training=True)\n",
    "\n",
    "        gen_loss=generator_loss(fake)\n",
    "        dis_loss=discriminator_loss(fake,real)\n",
    "        \n",
    "    gen_gradient=gen_tape.gradient(gen_loss,generator.trainable_variables)\n",
    "    dis_gradient=dis_tape.gradient(dis_loss,discriminator.trainable_variables)\n",
    "    \n",
    "    gen_optimizer.apply_gradients(zip(gen_gradient,generator.trainable_variables))\n",
    "    dis_optimizer.apply_gradients(zip(dis_gradient,discriminator.trainable_variables))\n",
    "\n",
    "    \n",
    "\n",
    "        \n",
    "\n",
    "        \n",
    "\n",
    "        "
   ]
  },
  {
   "cell_type": "code",
   "execution_count": 58,
   "id": "710bce97-283c-42c5-a316-de1c31ea560b",
   "metadata": {},
   "outputs": [
    {
     "data": {
      "text/plain": [
       "(60000, 28, 28, 1)"
      ]
     },
     "execution_count": 58,
     "metadata": {},
     "output_type": "execute_result"
    }
   ],
   "source": [
    "x_train=x_train.astype(\"float\")/255\n",
    "x_train=np.expand_dims(x_train,axis=-1)\n",
    "x_train.shape"
   ]
  },
  {
   "cell_type": "code",
   "execution_count": 59,
   "id": "a4b9bc68-33d8-4e02-b03d-76c12b9c1027",
   "metadata": {},
   "outputs": [
    {
     "name": "stderr",
     "output_type": "stream",
     "text": [
      "E0000 00:00:1738393376.588646    6631 meta_optimizer.cc:966] remapper failed: INVALID_ARGUMENT: Mutation::Apply error: fanout 'gradient_tape/sequential_15_3/leaky_re_lu_39_1/LeakyRelu/LeakyReluGrad_1' exist for missing node 'sequential_15_3/conv2d_15_1/add'.\n",
      "E0000 00:00:1738393463.264363    6631 meta_optimizer.cc:966] remapper failed: INVALID_ARGUMENT: Mutation::Apply error: fanout 'gradient_tape/sequential_15_3/leaky_re_lu_39_1/LeakyRelu/LeakyReluGrad_1' exist for missing node 'sequential_15_3/conv2d_15_1/add'.\n",
      "2025-02-01 12:34:23.480104: I tensorflow/core/framework/local_rendezvous.cc:405] Local rendezvous is aborting with status: OUT_OF_RANGE: End of sequence\n"
     ]
    }
   ],
   "source": [
    "seed=tf.random.normal([16,latent_dim])\n",
    "\n",
    "def training(dataset,epoch,batch_size,latent_dim,generator,discriminator): \n",
    "    generated_images=[]\n",
    "    for _ in range(epoch):\n",
    "        for batch in dataset: \n",
    "            train_step(batch,latent_dim,batch_size,generator,discriminator)\n",
    "        generated_images.append(generator(seed,training=False).numpy())\n",
    "    return np.array(generated_images)\n",
    "\n",
    "dataset=tf.data.Dataset.from_tensor_slices(x_train).batch(batch_size)\n",
    "val=training(dataset,1,batch_size,latent_dim,generator,discriminator)"
   ]
  },
  {
   "cell_type": "code",
   "execution_count": 60,
   "id": "709ee72f-5b03-471c-aa17-20e5c33201ea",
   "metadata": {},
   "outputs": [
    {
     "data": {
      "text/plain": [
       "<matplotlib.image.AxesImage at 0x713b4198e150>"
      ]
     },
     "execution_count": 60,
     "metadata": {},
     "output_type": "execute_result"
    },
    {
     "data": {
      "image/png": "[encoded data removed]",
      "text/plain": [
       "<Figure size 640x480 with 1 Axes>"
      ]
     },
     "metadata": {},
     "output_type": "display_data"
    }
   ],
   "source": [
    "import matplotlib.pyplot as plt \n",
    "\n",
    "plt.imshow(val[-1][0,:,:,:],cmap=\"grey\")"
   ]
  },
  {
   "cell_type": "code",
   "execution_count": null,
   "id": "233d6f53-fde9-4b4a-b211-6c91e17e85e1",
   "metadata": {},
   "outputs": [],
   "source": []
  }
 ],
 "metadata": {
  "kernelspec": {
   "display_name": "Python 3 (ipykernel)",
   "language": "python",
   "name": "python3"
  },
  "language_info": {
   "codemirror_mode": {
    "name": "ipython",
    "version": 3
   },
   "file_extension": ".py",
   "mimetype": "text/x-python",
   "name": "python",
   "nbconvert_exporter": "python",
   "pygments_lexer": "ipython3",
   "version": "3.12.3"
  }
 },
 "nbformat": 4,
 "nbformat_minor": 5
}
